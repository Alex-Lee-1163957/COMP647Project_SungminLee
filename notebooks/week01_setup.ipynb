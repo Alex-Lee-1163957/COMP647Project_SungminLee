{
  "cells": [
    {
      "cell_type": "markdown",
      "metadata": {},
      "source": [
        "# Week 01: Environment Setup and Initial Configuration\n",
        "\n",
        "**Course**: COMP647 - Machine Learning  \n",
        "**Student**: Sungmin Lee  \n",
        "**Week**: 01  \n",
        "**Objective**: Verify local environment setup and test basic functionality\n"
      ]
    },
    {
      "cell_type": "markdown",
      "metadata": {},
      "source": [
        "## 1. Environment Verification\n"
      ]
    },
    {
      "cell_type": "code",
      "execution_count": null,
      "metadata": {},
      "outputs": [],
      "source": [
        "# Check Python version and basic libraries\n",
        "import sys\n",
        "import platform\n",
        "\n",
        "print(f\"Python version: {sys.version}\")\n",
        "print(f\"Platform: {platform.platform()}\")\n",
        "print(f\"Architecture: {platform.architecture()}\")\n"
      ]
    }
  ],
  "metadata": {
    "language_info": {
      "name": "python"
    }
  },
  "nbformat": 4,
  "nbformat_minor": 2
}
